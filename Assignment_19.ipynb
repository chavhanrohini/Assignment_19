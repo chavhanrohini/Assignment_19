{
 "cells": [
  {
   "cell_type": "markdown",
   "id": "f7b764fb",
   "metadata": {},
   "source": [
    "## 1. Make a class called Thing with no contents and print it. Then, create an object called example from this class and also print it. Are the printed values the same or different?\n",
    "\n",
    "   Answer:\n"
   ]
  },
  {
   "cell_type": "code",
   "execution_count": 2,
   "id": "69b7515e",
   "metadata": {},
   "outputs": [
    {
     "name": "stdout",
     "output_type": "stream",
     "text": [
      "<__main__.Thing object at 0x00000162FBF1DFA0>\n",
      "<__main__.Thing object at 0x00000162FBF38490>\n"
     ]
    }
   ],
   "source": [
    "class Thing:\n",
    "    pass\n",
    "\n",
    "print(Thing())\n",
    "\n",
    "example = Thing()\n",
    "print(example)\n",
    "#The printed values for Thing() and example will be the same, \n",
    "#as they both represent an instance of the Thing class."
   ]
  },
  {
   "cell_type": "markdown",
   "id": "eebb4695",
   "metadata": {},
   "source": [
    "## 2. Create a new class called Thing2 and add the value 'abc' to the letters class attribute. Letters should be printed.\n",
    "\n",
    "   Answer:\n"
   ]
  },
  {
   "cell_type": "code",
   "execution_count": 3,
   "id": "3a134dd3",
   "metadata": {},
   "outputs": [
    {
     "name": "stdout",
     "output_type": "stream",
     "text": [
      "abc\n"
     ]
    }
   ],
   "source": [
    "class Thing2:\n",
    "    letters = 'abc'\n",
    "\n",
    "print(Thing2.letters)\n"
   ]
  },
  {
   "cell_type": "markdown",
   "id": "a077f308",
   "metadata": {},
   "source": [
    "## 3. Make yet another class called, of course, Thing3. This time, assign the value 'xyz' to an instance (object) attribute called letters. Print letters. Do you need to make an object from the class to do this?\n",
    "\n",
    "   Answer:\n"
   ]
  },
  {
   "cell_type": "code",
   "execution_count": 5,
   "id": "f24cc006",
   "metadata": {},
   "outputs": [
    {
     "name": "stdout",
     "output_type": "stream",
     "text": [
      "xyz\n"
     ]
    }
   ],
   "source": [
    "class Thing3:\n",
    "    def __init__(self):\n",
    "        self.letters = 'xyz'\n",
    "\n",
    "obj = Thing3()\n",
    "print(obj.letters)\n",
    "#Yes, you need to create an object (in this case, `obj`)\n",
    "# from the `Thing3` class to access the instance attribute `letters`."
   ]
  },
  {
   "cell_type": "markdown",
   "id": "5b6f78d9",
   "metadata": {},
   "source": [
    "## 4. Create an `Element` class with the instance attributes `name`, `symbol`, and `number`. Create a class object with the values 'Hydrogen,' 'H,' and 1.\n",
    "\n",
    "   Answer:\n"
   ]
  },
  {
   "cell_type": "code",
   "execution_count": 9,
   "id": "075f200f",
   "metadata": {},
   "outputs": [],
   "source": [
    "class Element:\n",
    "    def __init__(self, name, symbol, number):\n",
    "        self.name = name\n",
    "        self.symbol = symbol\n",
    "        self.number = number\n",
    "\n",
    "hydrogen = Element('Hydrogen', 'H', 1)\n"
   ]
  },
  {
   "cell_type": "markdown",
   "id": "ed1c03d8",
   "metadata": {},
   "source": [
    "## 5. Make a dictionary with these keys and values: 'name': 'Hydrogen', 'symbol': 'H', 'number': 1. Then, create an object called `hydrogen` from class `Element` using this dictionary.\n",
    "\n",
    "   Answer:\n"
   ]
  },
  {
   "cell_type": "code",
   "execution_count": 10,
   "id": "f5557bce",
   "metadata": {},
   "outputs": [],
   "source": [
    "data = {'name': 'Hydrogen', 'symbol': 'H', 'number': 1}\n",
    "hydrogen = Element(**data)\n"
   ]
  },
  {
   "cell_type": "markdown",
   "id": "653e7112",
   "metadata": {},
   "source": [
    "## 6. For the `Element` class, define a method called `dump()` that prints the values of the object’s attributes (name, symbol, and number). Create the `hydrogen` object from this new definition and use `dump()` to print its attributes.\n",
    "\n",
    "   Answer:\n"
   ]
  },
  {
   "cell_type": "code",
   "execution_count": 12,
   "id": "9ae63dbf",
   "metadata": {},
   "outputs": [
    {
     "name": "stdout",
     "output_type": "stream",
     "text": [
      "Name: Hydrogen, Symbol: H, Number: 1\n"
     ]
    }
   ],
   "source": [
    "class Element:\n",
    "    def __init__(self, name, symbol, number):\n",
    "        self.name = name\n",
    "        self.symbol = symbol\n",
    "        self.number = number\n",
    "\n",
    "    def dump(self):\n",
    "        print(f'Name: {self.name}, Symbol: {self.symbol}, Number: {self.number}')\n",
    "\n",
    "hydrogen = Element('Hydrogen', 'H', 1)\n",
    "hydrogen.dump()\n"
   ]
  },
  {
   "cell_type": "markdown",
   "id": "eaf7aac0",
   "metadata": {},
   "source": [
    "## 7. Call `print(hydrogen)`. In the definition of `Element`, change the name of method `dump` to `__str__`, create a new `hydrogen` object, and call `print(hydrogen)` again.\n",
    "\n",
    "   Answer:\n"
   ]
  },
  {
   "cell_type": "code",
   "execution_count": 13,
   "id": "7c31104d",
   "metadata": {},
   "outputs": [
    {
     "name": "stdout",
     "output_type": "stream",
     "text": [
      "Name: Hydrogen, Symbol: H, Number: 1\n"
     ]
    }
   ],
   "source": [
    "class Element:\n",
    "    def __init__(self, name, symbol, number):\n",
    "        self.name = name\n",
    "        self.symbol = symbol\n",
    "        self.number = number\n",
    "\n",
    "    def __str__(self):\n",
    "        return f'Name: {self.name}, Symbol: {self.symbol}, Number: {self.number}'\n",
    "\n",
    "hydrogen = Element('Hydrogen', 'H', 1)\n",
    "print(hydrogen)\n"
   ]
  },
  {
   "cell_type": "markdown",
   "id": "5e126ee8",
   "metadata": {},
   "source": [
    "## 8. Modify `Element` to make the attributes `name`, `symbol`, and `number` private. Define a getter property for each to return its value.\n",
    "\n",
    "   Answer:\n"
   ]
  },
  {
   "cell_type": "code",
   "execution_count": 14,
   "id": "c84028e9",
   "metadata": {},
   "outputs": [
    {
     "name": "stdout",
     "output_type": "stream",
     "text": [
      "Hydrogen\n"
     ]
    }
   ],
   "source": [
    "class Element:\n",
    "    def __init__(self, name, symbol, number):\n",
    "        self.__name = name\n",
    "        self.__symbol = symbol\n",
    "        self.__number = number\n",
    "\n",
    "    @property\n",
    "    def name(self):\n",
    "        return self.__name\n",
    "\n",
    "    @property\n",
    "    def symbol(self):\n",
    "        return self.__symbol\n",
    "\n",
    "    @property\n",
    "    def number(self):\n",
    "        return self.__number\n",
    "\n",
    "hydrogen = Element('Hydrogen', 'H', 1)\n",
    "print(hydrogen.name)    # Accessing through the getter property\n"
   ]
  },
  {
   "cell_type": "markdown",
   "id": "13a517e1",
   "metadata": {},
   "source": [
    "## 9. Define three classes: `Bear`, `Rabbit`, and `Octothorpe`. For each, define only one method: `eats()`. This should return 'berries' (Bear), 'clover' (Rabbit), or 'campers' (Octothorpe). Create one object from each and print what it eats.\n",
    "\n",
    "   Answer:\n"
   ]
  },
  {
   "cell_type": "code",
   "execution_count": 15,
   "id": "cce7d920",
   "metadata": {},
   "outputs": [
    {
     "name": "stdout",
     "output_type": "stream",
     "text": [
      "Bear eats: berries\n",
      "Rabbit eats: clover\n",
      "Octothorpe eats: campers\n"
     ]
    }
   ],
   "source": [
    "class Bear:\n",
    "    def eats(self):\n",
    "        return 'berries'\n",
    "\n",
    "class Rabbit:\n",
    "    def eats(self):\n",
    "        return 'clover'\n",
    "\n",
    "class Octothorpe:\n",
    "    def eats(self):\n",
    "        return 'campers'\n",
    "\n",
    "bear = Bear()\n",
    "rabbit = Rabbit()\n",
    "octothorpe = Octothorpe()\n",
    "\n",
    "print(f'Bear eats: {bear.eats()}')\n",
    "print(f'Rabbit eats: {rabbit.eats()}')\n",
    "print(f'Octothorpe eats: {octothorpe.eats()}')\n"
   ]
  },
  {
   "cell_type": "markdown",
   "id": "76e341ff",
   "metadata": {},
   "source": [
    "## 10. Define these classes: `Laser`, `Claw`, and `SmartPhone`. Each has only one method: `does()`. This returns 'disintegrate' (Laser), 'crush' (Claw), or 'ring' (SmartPhone). Then, define the class `Robot` that has one instance (object) of each of these. Define a `does()` method for the `Robot` that prints what its component objects do.\n",
    "\n",
    "    Answer:\n"
   ]
  },
  {
   "cell_type": "code",
   "execution_count": 16,
   "id": "3dedb275",
   "metadata": {},
   "outputs": [
    {
     "name": "stdout",
     "output_type": "stream",
     "text": [
      "Laser: disintegrate, Claw: crush, Smartphone: ring\n"
     ]
    }
   ],
   "source": [
    "class Laser:\n",
    "    def does(self):\n",
    "        return 'disintegrate'\n",
    "\n",
    "class Claw:\n",
    "    def does(self):\n",
    "        return 'crush'\n",
    "\n",
    "class SmartPhone:\n",
    "    def does(self):\n",
    "        return 'ring'\n",
    "\n",
    "class Robot:\n",
    "    def __init__(self):\n",
    "        self.laser = Laser()\n",
    "        self.claw = Claw()\n",
    "        self.smartphone = SmartPhone()\n",
    "\n",
    "    def does(self):\n",
    "        print(f'Laser: {self.laser.does()}, Claw: {self.claw.does()}, Smartphone: {self.smartphone.does()}')\n",
    "\n",
    "robot = Robot()\n",
    "robot.does()\n"
   ]
  },
  {
   "cell_type": "code",
   "execution_count": null,
   "id": "9e8e70d7",
   "metadata": {},
   "outputs": [],
   "source": []
  }
 ],
 "metadata": {
  "kernelspec": {
   "display_name": "Python 3 (ipykernel)",
   "language": "python",
   "name": "python3"
  },
  "language_info": {
   "codemirror_mode": {
    "name": "ipython",
    "version": 3
   },
   "file_extension": ".py",
   "mimetype": "text/x-python",
   "name": "python",
   "nbconvert_exporter": "python",
   "pygments_lexer": "ipython3",
   "version": "3.9.12"
  }
 },
 "nbformat": 4,
 "nbformat_minor": 5
}
